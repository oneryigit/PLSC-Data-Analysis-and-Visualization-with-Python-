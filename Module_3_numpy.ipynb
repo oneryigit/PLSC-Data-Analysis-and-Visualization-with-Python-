{
 "cells": [
  {
   "cell_type": "markdown",
   "metadata": {
    "id": "yQbQ6qWUS--E"
   },
   "source": [
    "# **PLSC - Political Science Poli.Analysis & Data w/ Python**\n",
    "\n",
    "## **Summer 2023**\n",
    "### **Module 3**\n",
    "\n",
    "## Data Analysis Basics\n",
    "\n",
    "**Agenda for this week:**\n",
    "\n",
    "We will learn essential libraries for data analysis:\n",
    "  - `numpy`\n",
    "  - `scipy`\n",
    "  - `pandas`\n",
    "  - `statsmodel`"
   ]
  },
  {
   "cell_type": "markdown",
   "metadata": {
    "id": "EtYxW8VnqV8M"
   },
   "source": [
    "# **NumPy**"
   ]
  },
  {
   "cell_type": "markdown",
   "metadata": {
    "id": "7CrZQQjyVG4w"
   },
   "source": [
    "\n",
    "- `NumPy` stands for *Numerical Python*\n",
    "- a linear algebra library for Python\n",
    "- used for numerical and scientific computing\n",
    "- support multi-dimensional arrays and matrices\n",
    "- collection of high-level mathematical functions\n",
    "- almost all libraries rely on numpy\n",
    "\n",
    "\n",
    "\n",
    "We call/import NumPy with this statement:\n",
    "\n",
    "` import numpy as np`\n",
    "\n",
    "You could import NumPy as `import numpy`, but that is not conventional.\n",
    "We use alias name `np` for NumPy.\n",
    "\n",
    "If we use `import numpy`, then, as we will see, we would have to write `numpy` whenever we need to use a function from the numpy package/library. To make our life a bit easier we `import numpy` as short `np`\n"
   ]
  },
  {
   "cell_type": "code",
   "execution_count": 1,
   "metadata": {
    "id": "bzWQQwyHTxGG"
   },
   "outputs": [],
   "source": [
    "#import numpy library\n",
    "\n",
    "import numpy as np"
   ]
  },
  {
   "cell_type": "markdown",
   "metadata": {
    "id": "ovNI5ZK5Y7ES"
   },
   "source": [
    "Numpy has many built-in functions and capabilities. (Remember last week's built-in functions)\n",
    "\n",
    "We won't cover whole library, that is not possible and irrational.\n",
    "\n",
    "You can read documentations for packages for spesific function when needed. Here is the offical website for [NumPy](https://numpy.org/doc/stable/index.html).\n",
    "\n",
    "\n",
    "Instead we will focus on some of the most important aspects of Numpy:\n",
    "- vectors, arrays,matrices, and number generation."
   ]
  },
  {
   "cell_type": "markdown",
   "metadata": {
    "id": "j6ncnOrJaVmY"
   },
   "source": [
    "## Numpy Arrays\n",
    "\n",
    "NumPy arrays are the main way we will use Numpy.\n",
    "\n",
    "NumPy provides a data structure called ndarray (n-dimensional array).\n",
    "\n",
    "Numpy arrays essentially come in two flavors: vectors and matrices.\n",
    "\n",
    "Vectors are strictly 1-d arrays and matrices are 2-d (but you should note a matrix can still have only one row or one column).\n",
    "\n",
    "Arrays can store various types of data, such as integers, floats, or complex numbers.\n",
    "\n",
    "NumPy offers powerful tools for indexing, slicing, and selecting elements from arrays, making it easy to work with specific subsets of data.\n",
    "\n",
    "Let's begin our introduction by exploring how to create NumPy arrays."
   ]
  },
  {
   "cell_type": "code",
   "execution_count": 2,
   "metadata": {
    "colab": {
     "base_uri": "https://localhost:8080/"
    },
    "id": "RFnulFPlaVXF",
    "outputId": "b0dbaea9-fd08-43ea-ff1f-31477e1323bb"
   },
   "outputs": [
    {
     "data": {
      "text/plain": [
       "[1, 2, 3]"
      ]
     },
     "execution_count": 2,
     "metadata": {},
     "output_type": "execute_result"
    }
   ],
   "source": [
    "# Creating NumPy Arrays\n",
    "# Remember Python lists --> [ ]\n",
    "\n",
    "my_list = [1,2,3]\n",
    "my_list"
   ]
  },
  {
   "cell_type": "code",
   "execution_count": 3,
   "metadata": {
    "colab": {
     "base_uri": "https://localhost:8080/"
    },
    "id": "VesZdhMBbLwg",
    "outputId": "a0659131-f3ce-4805-dc4f-4b7af0e7840c"
   },
   "outputs": [
    {
     "data": {
      "text/plain": [
       "array([1, 2, 3])"
      ]
     },
     "execution_count": 3,
     "metadata": {},
     "output_type": "execute_result"
    }
   ],
   "source": [
    "#we can make the list as numpy array\n",
    "# essentially we create one dimentional data structure or vector.\n",
    "# think of array as a variable that stores ages of students.\n",
    "\n",
    "my_array=np.array(my_list)\n",
    "my_array"
   ]
  },
  {
   "cell_type": "markdown",
   "metadata": {
    "id": "vnSi0oP-bppG"
   },
   "source": [
    "Notice `np.array`\n",
    "\n",
    "so `np` stands for numpy. We are using a function\\method from `numpy` library called `.array()`.\n",
    "\n",
    "Each time, we we use a method from any library in Python, we would first need to write the name/alias of the library such as `np` then call for its method such as `.array()`"
   ]
  },
  {
   "cell_type": "code",
   "execution_count": 4,
   "metadata": {
    "id": "nCSVPwJKboFc"
   },
   "outputs": [],
   "source": [
    "#how to read documentation for the function?\n",
    "\n",
    "#first way: using \"?\" at the end\n",
    "\n",
    "np.array?\n"
   ]
  },
  {
   "cell_type": "code",
   "execution_count": 5,
   "metadata": {
    "colab": {
     "base_uri": "https://localhost:8080/"
    },
    "id": "_vnm-GZ4chrl",
    "outputId": "9e13c140-d282-4618-e607-382aebd22f5d"
   },
   "outputs": [
    {
     "name": "stdout",
     "output_type": "stream",
     "text": [
      "Help on built-in function array in module numpy:\n",
      "\n",
      "array(...)\n",
      "    array(object, dtype=None, *, copy=True, order='K', subok=False, ndmin=0,\n",
      "          like=None)\n",
      "    \n",
      "    Create an array.\n",
      "    \n",
      "    Parameters\n",
      "    ----------\n",
      "    object : array_like\n",
      "        An array, any object exposing the array interface, an object whose\n",
      "        __array__ method returns an array, or any (nested) sequence.\n",
      "        If object is a scalar, a 0-dimensional array containing object is\n",
      "        returned.\n",
      "    dtype : data-type, optional\n",
      "        The desired data-type for the array.  If not given, then the type will\n",
      "        be determined as the minimum type required to hold the objects in the\n",
      "        sequence.\n",
      "    copy : bool, optional\n",
      "        If true (default), then the object is copied.  Otherwise, a copy will\n",
      "        only be made if __array__ returns a copy, if obj is a nested sequence,\n",
      "        or if a copy is needed to satisfy any of the other requirements\n",
      "        (`dtype`, `order`, etc.).\n",
      "    order : {'K', 'A', 'C', 'F'}, optional\n",
      "        Specify the memory layout of the array. If object is not an array, the\n",
      "        newly created array will be in C order (row major) unless 'F' is\n",
      "        specified, in which case it will be in Fortran order (column major).\n",
      "        If object is an array the following holds.\n",
      "    \n",
      "        ===== ========= ===================================================\n",
      "        order  no copy                     copy=True\n",
      "        ===== ========= ===================================================\n",
      "        'K'   unchanged F & C order preserved, otherwise most similar order\n",
      "        'A'   unchanged F order if input is F and not C, otherwise C order\n",
      "        'C'   C order   C order\n",
      "        'F'   F order   F order\n",
      "        ===== ========= ===================================================\n",
      "    \n",
      "        When ``copy=False`` and a copy is made for other reasons, the result is\n",
      "        the same as if ``copy=True``, with some exceptions for 'A', see the\n",
      "        Notes section. The default order is 'K'.\n",
      "    subok : bool, optional\n",
      "        If True, then sub-classes will be passed-through, otherwise\n",
      "        the returned array will be forced to be a base-class array (default).\n",
      "    ndmin : int, optional\n",
      "        Specifies the minimum number of dimensions that the resulting\n",
      "        array should have.  Ones will be pre-pended to the shape as\n",
      "        needed to meet this requirement.\n",
      "    like : array_like\n",
      "        Reference object to allow the creation of arrays which are not\n",
      "        NumPy arrays. If an array-like passed in as ``like`` supports\n",
      "        the ``__array_function__`` protocol, the result will be defined\n",
      "        by it. In this case, it ensures the creation of an array object\n",
      "        compatible with that passed in via this argument.\n",
      "    \n",
      "        .. versionadded:: 1.20.0\n",
      "    \n",
      "    Returns\n",
      "    -------\n",
      "    out : ndarray\n",
      "        An array object satisfying the specified requirements.\n",
      "    \n",
      "    See Also\n",
      "    --------\n",
      "    empty_like : Return an empty array with shape and type of input.\n",
      "    ones_like : Return an array of ones with shape and type of input.\n",
      "    zeros_like : Return an array of zeros with shape and type of input.\n",
      "    full_like : Return a new array with shape of input filled with value.\n",
      "    empty : Return a new uninitialized array.\n",
      "    ones : Return a new array setting values to one.\n",
      "    zeros : Return a new array setting values to zero.\n",
      "    full : Return a new array of given shape filled with value.\n",
      "    \n",
      "    \n",
      "    Notes\n",
      "    -----\n",
      "    When order is 'A' and `object` is an array in neither 'C' nor 'F' order,\n",
      "    and a copy is forced by a change in dtype, then the order of the result is\n",
      "    not necessarily 'C' as expected. This is likely a bug.\n",
      "    \n",
      "    Examples\n",
      "    --------\n",
      "    >>> np.array([1, 2, 3])\n",
      "    array([1, 2, 3])\n",
      "    \n",
      "    Upcasting:\n",
      "    \n",
      "    >>> np.array([1, 2, 3.0])\n",
      "    array([ 1.,  2.,  3.])\n",
      "    \n",
      "    More than one dimension:\n",
      "    \n",
      "    >>> np.array([[1, 2], [3, 4]])\n",
      "    array([[1, 2],\n",
      "           [3, 4]])\n",
      "    \n",
      "    Minimum dimensions 2:\n",
      "    \n",
      "    >>> np.array([1, 2, 3], ndmin=2)\n",
      "    array([[1, 2, 3]])\n",
      "    \n",
      "    Type provided:\n",
      "    \n",
      "    >>> np.array([1, 2, 3], dtype=complex)\n",
      "    array([ 1.+0.j,  2.+0.j,  3.+0.j])\n",
      "    \n",
      "    Data-type consisting of more than one element:\n",
      "    \n",
      "    >>> x = np.array([(1,2),(3,4)],dtype=[('a','<i4'),('b','<i4')])\n",
      "    >>> x['a']\n",
      "    array([1, 3])\n",
      "    \n",
      "    Creating an array from sub-classes:\n",
      "    \n",
      "    >>> np.array(np.mat('1 2; 3 4'))\n",
      "    array([[1, 2],\n",
      "           [3, 4]])\n",
      "    \n",
      "    >>> np.array(np.mat('1 2; 3 4'), subok=True)\n",
      "    matrix([[1, 2],\n",
      "            [3, 4]])\n",
      "\n"
     ]
    }
   ],
   "source": [
    "# or using help(np.array())\n",
    "\n",
    "help(np.array)"
   ]
  },
  {
   "cell_type": "code",
   "execution_count": 6,
   "metadata": {
    "colab": {
     "base_uri": "https://localhost:8080/"
    },
    "id": "RHxepIdOdU1y",
    "outputId": "fce38fe5-21ff-4207-b2b0-76bfc387ec21"
   },
   "outputs": [
    {
     "data": {
      "text/plain": [
       "[[1, 2, 3], [4, 5, 6], [7, 8, 9]]"
      ]
     },
     "execution_count": 6,
     "metadata": {},
     "output_type": "execute_result"
    }
   ],
   "source": [
    "# matrix\n",
    "\n",
    "#remember matrix from math.\n",
    "# two-dimensional array\n",
    "#two-dimensional array has rows and columns\n",
    "\n",
    "#here we have list within list nested.\n",
    "my_nested_list = [[1,2,3],[4,5,6],[7,8,9]]\n",
    "my_nested_list\n"
   ]
  },
  {
   "cell_type": "code",
   "execution_count": 7,
   "metadata": {
    "colab": {
     "base_uri": "https://localhost:8080/"
    },
    "id": "HLZix_gbfGC3",
    "outputId": "458beaca-553f-48e7-e00e-27a8f90f2400"
   },
   "outputs": [
    {
     "data": {
      "text/plain": [
       "array([[1, 2, 3],\n",
       "       [4, 5, 6],\n",
       "       [7, 8, 9]])"
      ]
     },
     "execution_count": 7,
     "metadata": {},
     "output_type": "execute_result"
    }
   ],
   "source": [
    "# we can create matrix form using np.array\n",
    "# think of this as we have three columns and three rows\n",
    "# notice there is no column or row names\n",
    "# we would need to know columnn names/variables for data analysis\n",
    "# pandas will be built on top of numpy to provide that\n",
    "\n",
    "my_matrix =np.array(my_nested_list)\n",
    "my_matrix"
   ]
  },
  {
   "cell_type": "markdown",
   "metadata": {
    "id": "GNY5ZddagEBa"
   },
   "source": [
    "## Some methods in `numpy` to create arrays.\n",
    "\n",
    "  - `.arange()`\n",
    "  - `.zeros()`\n",
    "  - `.ones()`\n",
    "  - `.linspace()`\n",
    "  - `.eye()`\n",
    "  - `.random()`\n",
    "    - `.random.rand()`\n",
    "    - `.random.randn()`\n",
    "    - `.random.randint()`"
   ]
  },
  {
   "cell_type": "code",
   "execution_count": 8,
   "metadata": {
    "colab": {
     "base_uri": "https://localhost:8080/"
    },
    "id": "6h9oJ5ZvffwD",
    "outputId": "d8c2c98f-de86-43e5-fbc6-02b8b5938aaa"
   },
   "outputs": [
    {
     "data": {
      "text/plain": [
       "array([0, 1, 2, 3, 4, 5, 6, 7, 8, 9])"
      ]
     },
     "execution_count": 8,
     "metadata": {},
     "output_type": "execute_result"
    }
   ],
   "source": [
    "# arange\n",
    "# similar to range()\n",
    "#Return evenly spaced values within a given interval.\n",
    "\n",
    "np.arange(0,10)"
   ]
  },
  {
   "cell_type": "code",
   "execution_count": 9,
   "metadata": {
    "colab": {
     "base_uri": "https://localhost:8080/"
    },
    "id": "hJ07u_xnh0q9",
    "outputId": "1ce16a4a-55c4-481b-fd33-a1be61af26ec"
   },
   "outputs": [
    {
     "data": {
      "text/plain": [
       "array([ 0,  2,  4,  6,  8, 10])"
      ]
     },
     "execution_count": 9,
     "metadata": {},
     "output_type": "execute_result"
    }
   ],
   "source": [
    "np.arange(0,11,2)"
   ]
  },
  {
   "cell_type": "code",
   "execution_count": 10,
   "metadata": {
    "id": "QYhZzdsOiB0j"
   },
   "outputs": [],
   "source": [
    "np.arange?"
   ]
  },
  {
   "cell_type": "code",
   "execution_count": 11,
   "metadata": {
    "colab": {
     "base_uri": "https://localhost:8080/"
    },
    "id": "kf-8wcg2iE0O",
    "outputId": "12aa418f-2112-4d17-efcd-b5705f846992"
   },
   "outputs": [
    {
     "data": {
      "text/plain": [
       "array([0., 0., 0.])"
      ]
     },
     "execution_count": 11,
     "metadata": {},
     "output_type": "execute_result"
    }
   ],
   "source": [
    "# zeros and ones\n",
    "\n",
    "# Generate arrays of zeros or ones\n",
    "\n",
    "np.zeros(3)"
   ]
  },
  {
   "cell_type": "code",
   "execution_count": 12,
   "metadata": {
    "colab": {
     "base_uri": "https://localhost:8080/"
    },
    "id": "GnY_r6CHiZF3",
    "outputId": "f3422c14-9316-4738-ad69-aa46fb7de171"
   },
   "outputs": [
    {
     "data": {
      "text/plain": [
       "array([[0., 0., 0., 0., 0.],\n",
       "       [0., 0., 0., 0., 0.],\n",
       "       [0., 0., 0., 0., 0.],\n",
       "       [0., 0., 0., 0., 0.],\n",
       "       [0., 0., 0., 0., 0.]])"
      ]
     },
     "execution_count": 12,
     "metadata": {},
     "output_type": "execute_result"
    }
   ],
   "source": [
    "np.zeros((5,5))"
   ]
  },
  {
   "cell_type": "code",
   "execution_count": 13,
   "metadata": {
    "colab": {
     "base_uri": "https://localhost:8080/"
    },
    "id": "s9s5DVT5iaTh",
    "outputId": "d95cc08a-f2cc-40f4-bb36-59188cb1986a"
   },
   "outputs": [
    {
     "data": {
      "text/plain": [
       "array([1., 1., 1.])"
      ]
     },
     "execution_count": 13,
     "metadata": {},
     "output_type": "execute_result"
    }
   ],
   "source": [
    "np.ones(3)"
   ]
  },
  {
   "cell_type": "code",
   "execution_count": 14,
   "metadata": {
    "colab": {
     "base_uri": "https://localhost:8080/"
    },
    "id": "a_iaGX06idwY",
    "outputId": "fcb3fbee-84ba-44c6-917f-804bbf99fdf1"
   },
   "outputs": [
    {
     "data": {
      "text/plain": [
       "array([[1., 1., 1.],\n",
       "       [1., 1., 1.],\n",
       "       [1., 1., 1.]])"
      ]
     },
     "execution_count": 14,
     "metadata": {},
     "output_type": "execute_result"
    }
   ],
   "source": [
    "np.ones((3,3))"
   ]
  },
  {
   "cell_type": "code",
   "execution_count": 15,
   "metadata": {
    "colab": {
     "base_uri": "https://localhost:8080/"
    },
    "id": "tekucVROifYB",
    "outputId": "0f320125-7dd8-4ccf-fdc4-6a9786913603"
   },
   "outputs": [
    {
     "data": {
      "text/plain": [
       "array([ 0.,  5., 10.])"
      ]
     },
     "execution_count": 15,
     "metadata": {},
     "output_type": "execute_result"
    }
   ],
   "source": [
    "# linspace\n",
    "#Return evenly spaced numbers over a specified interval.\n",
    "\n",
    "\n",
    "np.linspace(0,10,3)\n",
    "\n"
   ]
  },
  {
   "cell_type": "code",
   "execution_count": 16,
   "metadata": {
    "colab": {
     "base_uri": "https://localhost:8080/"
    },
    "id": "kHnszQHpinwI",
    "outputId": "19753f5c-6fc4-496e-e807-1a50b4aa95ff"
   },
   "outputs": [
    {
     "data": {
      "text/plain": [
       "array([ 0.        ,  0.20408163,  0.40816327,  0.6122449 ,  0.81632653,\n",
       "        1.02040816,  1.2244898 ,  1.42857143,  1.63265306,  1.83673469,\n",
       "        2.04081633,  2.24489796,  2.44897959,  2.65306122,  2.85714286,\n",
       "        3.06122449,  3.26530612,  3.46938776,  3.67346939,  3.87755102,\n",
       "        4.08163265,  4.28571429,  4.48979592,  4.69387755,  4.89795918,\n",
       "        5.10204082,  5.30612245,  5.51020408,  5.71428571,  5.91836735,\n",
       "        6.12244898,  6.32653061,  6.53061224,  6.73469388,  6.93877551,\n",
       "        7.14285714,  7.34693878,  7.55102041,  7.75510204,  7.95918367,\n",
       "        8.16326531,  8.36734694,  8.57142857,  8.7755102 ,  8.97959184,\n",
       "        9.18367347,  9.3877551 ,  9.59183673,  9.79591837, 10.        ])"
      ]
     },
     "execution_count": 16,
     "metadata": {},
     "output_type": "execute_result"
    }
   ],
   "source": [
    "np.linspace(0,10,50)"
   ]
  },
  {
   "cell_type": "code",
   "execution_count": 17,
   "metadata": {
    "colab": {
     "base_uri": "https://localhost:8080/"
    },
    "id": "9j7V6nmKiq__",
    "outputId": "8d9b01d6-ac0b-46e3-a6fb-df1d0bd38cf6"
   },
   "outputs": [
    {
     "data": {
      "text/plain": [
       "array([[1., 0., 0., 0.],\n",
       "       [0., 1., 0., 0.],\n",
       "       [0., 0., 1., 0.],\n",
       "       [0., 0., 0., 1.]])"
      ]
     },
     "execution_count": 17,
     "metadata": {},
     "output_type": "execute_result"
    }
   ],
   "source": [
    "#eye\n",
    "#Creates an identity matrix\n",
    "\n",
    "np.eye(4)"
   ]
  },
  {
   "cell_type": "markdown",
   "metadata": {
    "id": "dum_FkVHi47s"
   },
   "source": [
    "## `Random `\n",
    "\n",
    "Numpy also has lots of ways to create random number arrays:\n",
    "\n",
    "### `rand`\n",
    "Create an array of the given shape and populate it with\n",
    "random samples from a uniform distribution\n",
    "over ``[0, 1)``."
   ]
  },
  {
   "cell_type": "code",
   "execution_count": 18,
   "metadata": {
    "colab": {
     "base_uri": "https://localhost:8080/"
    },
    "id": "rUDp0DbRi1ii",
    "outputId": "ff3917c5-4ee3-4792-8197-45ad03718375"
   },
   "outputs": [
    {
     "data": {
      "text/plain": [
       "array([0.27447838, 0.02631316])"
      ]
     },
     "execution_count": 18,
     "metadata": {},
     "output_type": "execute_result"
    }
   ],
   "source": [
    "#rand\n",
    "# uniform distribution:\n",
    "\n",
    "np.random.rand(2)"
   ]
  },
  {
   "cell_type": "code",
   "execution_count": 19,
   "metadata": {
    "colab": {
     "base_uri": "https://localhost:8080/"
    },
    "id": "9yMb8a-ZjAt7",
    "outputId": "c6d0686b-bc36-4927-a3f3-d3c47a7625a0"
   },
   "outputs": [
    {
     "data": {
      "text/plain": [
       "array([[0.27728794, 0.88987657, 0.98135144, 0.30583135, 0.77088601],\n",
       "       [0.18356157, 0.43874293, 0.37257179, 0.49939422, 0.56507977],\n",
       "       [0.15224957, 0.22421743, 0.19949405, 0.21800001, 0.31017525],\n",
       "       [0.49467036, 0.41090752, 0.59603672, 0.31946508, 0.77102019],\n",
       "       [0.82314943, 0.72830805, 0.83197673, 0.90282859, 0.16641578]])"
      ]
     },
     "execution_count": 19,
     "metadata": {},
     "output_type": "execute_result"
    }
   ],
   "source": [
    "np.random.rand(5,5)"
   ]
  },
  {
   "cell_type": "code",
   "execution_count": 20,
   "metadata": {
    "colab": {
     "base_uri": "https://localhost:8080/"
    },
    "id": "r4Tla4aWjD2k",
    "outputId": "fc26be89-73ad-420d-8988-2ac932079393"
   },
   "outputs": [
    {
     "data": {
      "text/plain": [
       "array([-0.66579374, -1.02906829])"
      ]
     },
     "execution_count": 20,
     "metadata": {},
     "output_type": "execute_result"
    }
   ],
   "source": [
    "### randn\n",
    "\n",
    "#Return a sample (or samples) from the \"standard normal\" distribution.\n",
    "\n",
    "np.random.randn(2)"
   ]
  },
  {
   "cell_type": "code",
   "execution_count": 21,
   "metadata": {
    "colab": {
     "base_uri": "https://localhost:8080/"
    },
    "id": "dyDwwGYsj-N4",
    "outputId": "15336b6e-d611-4af6-e5f9-2d7768c77690"
   },
   "outputs": [
    {
     "data": {
      "text/plain": [
       "array([[ 0.72105511, -1.06398901,  1.17893733, -0.91072249,  0.72001668],\n",
       "       [-0.29678605, -1.24798476, -0.32850382, -0.52380575,  0.92291977],\n",
       "       [ 1.11668004,  1.77774809,  1.65448717, -0.93724843, -0.46829488],\n",
       "       [ 1.88048625,  0.30064123, -0.97640997, -0.58109289,  0.01825987],\n",
       "       [ 0.09172822,  0.6910925 ,  2.02937707, -1.03908317, -0.39386021]])"
      ]
     },
     "execution_count": 21,
     "metadata": {},
     "output_type": "execute_result"
    }
   ],
   "source": [
    "np.random.randn(5,5)"
   ]
  },
  {
   "cell_type": "code",
   "execution_count": 22,
   "metadata": {
    "colab": {
     "base_uri": "https://localhost:8080/"
    },
    "id": "GFVEcwnGkBV5",
    "outputId": "a944396c-0828-40f1-f525-1912b6b00794"
   },
   "outputs": [
    {
     "data": {
      "text/plain": [
       "17"
      ]
     },
     "execution_count": 22,
     "metadata": {},
     "output_type": "execute_result"
    }
   ],
   "source": [
    "# randint\n",
    "#Return random integers from `low` (inclusive) to `high` (exclusive).\n",
    "\n",
    "np.random.randint(1,100)"
   ]
  },
  {
   "cell_type": "code",
   "execution_count": 23,
   "metadata": {
    "colab": {
     "base_uri": "https://localhost:8080/"
    },
    "id": "J1UOYemOkJaQ",
    "outputId": "fedf549e-1009-43b9-d8dc-e1f9beac5a0d"
   },
   "outputs": [
    {
     "data": {
      "text/plain": [
       "array([ 0,  1,  2,  3,  4,  5,  6,  7,  8,  9, 10, 11, 12, 13, 14, 15, 16,\n",
       "       17, 18, 19, 20, 21, 22, 23, 24])"
      ]
     },
     "execution_count": 23,
     "metadata": {},
     "output_type": "execute_result"
    }
   ],
   "source": [
    "var1 = np.arange(25)\n",
    "var1"
   ]
  },
  {
   "cell_type": "code",
   "execution_count": 24,
   "metadata": {
    "colab": {
     "base_uri": "https://localhost:8080/"
    },
    "id": "OdhBqp8WkSKY",
    "outputId": "7af12b78-7e76-4dc7-a369-17ec1d45576d"
   },
   "outputs": [
    {
     "data": {
      "text/plain": [
       "array([23, 10, 12, 22,  8, 41, 35, 30, 20, 38])"
      ]
     },
     "execution_count": 24,
     "metadata": {},
     "output_type": "execute_result"
    }
   ],
   "source": [
    "var2 = np.random.randint(0,50,10)\n",
    "var2"
   ]
  },
  {
   "cell_type": "code",
   "execution_count": 25,
   "metadata": {
    "colab": {
     "base_uri": "https://localhost:8080/"
    },
    "id": "pFdUuU5ekUMt",
    "outputId": "a509e700-d044-47e3-df4d-112346b2473f"
   },
   "outputs": [
    {
     "data": {
      "text/plain": [
       "array([[ 0,  1,  2,  3,  4],\n",
       "       [ 5,  6,  7,  8,  9],\n",
       "       [10, 11, 12, 13, 14],\n",
       "       [15, 16, 17, 18, 19],\n",
       "       [20, 21, 22, 23, 24]])"
      ]
     },
     "execution_count": 25,
     "metadata": {},
     "output_type": "execute_result"
    }
   ],
   "source": [
    "## Reshape\n",
    "#Returns an array containing the same data with a new shape.\n",
    "# five row five column\n",
    "\n",
    "var1.reshape(5,5)"
   ]
  },
  {
   "cell_type": "code",
   "execution_count": 26,
   "metadata": {
    "colab": {
     "base_uri": "https://localhost:8080/"
    },
    "id": "J3OFvz9ekl6Q",
    "outputId": "0c823552-cc86-4134-b754-082e306d5e82"
   },
   "outputs": [
    {
     "data": {
      "text/plain": [
       "41"
      ]
     },
     "execution_count": 26,
     "metadata": {},
     "output_type": "execute_result"
    }
   ],
   "source": [
    "# max, min, argmax, argmin\n",
    "\n",
    "# useful methods for finding max or min values.\n",
    "# find their index locations using argmin or argmax\n",
    "\n",
    "var2.max()"
   ]
  },
  {
   "cell_type": "code",
   "execution_count": 27,
   "metadata": {
    "colab": {
     "base_uri": "https://localhost:8080/"
    },
    "id": "SeMLBZsalB8m",
    "outputId": "154dfe05-5519-4984-ecab-0268de8d1274"
   },
   "outputs": [
    {
     "data": {
      "text/plain": [
       "5"
      ]
     },
     "execution_count": 27,
     "metadata": {},
     "output_type": "execute_result"
    }
   ],
   "source": [
    "# index poisiton of the max value\n",
    "var2.argmax()"
   ]
  },
  {
   "cell_type": "code",
   "execution_count": 28,
   "metadata": {
    "colab": {
     "base_uri": "https://localhost:8080/"
    },
    "id": "v-p7XWVolHia",
    "outputId": "a9509d05-f24d-448f-90e6-c575ff0c95bf"
   },
   "outputs": [
    {
     "data": {
      "text/plain": [
       "8"
      ]
     },
     "execution_count": 28,
     "metadata": {},
     "output_type": "execute_result"
    }
   ],
   "source": [
    "var2.min()"
   ]
  },
  {
   "cell_type": "code",
   "execution_count": 29,
   "metadata": {
    "colab": {
     "base_uri": "https://localhost:8080/"
    },
    "id": "Uz23J9E2lXuG",
    "outputId": "9d335018-649f-43cd-cff5-8bc9ed0a9490"
   },
   "outputs": [
    {
     "data": {
      "text/plain": [
       "4"
      ]
     },
     "execution_count": 29,
     "metadata": {},
     "output_type": "execute_result"
    }
   ],
   "source": [
    "var2.argmin()"
   ]
  },
  {
   "cell_type": "markdown",
   "metadata": {
    "id": "O6rooq6dllVw"
   },
   "source": [
    "## Shape\n",
    "\n",
    "Shape is an **attribute** that arrays have (not a method):"
   ]
  },
  {
   "cell_type": "code",
   "execution_count": 30,
   "metadata": {
    "colab": {
     "base_uri": "https://localhost:8080/"
    },
    "id": "FxV0gweLmb9Q",
    "outputId": "6006543d-eebc-4298-a40f-664893d43986"
   },
   "outputs": [
    {
     "data": {
      "text/plain": [
       "array([ 0,  1,  2,  3,  4,  5,  6,  7,  8,  9, 10, 11, 12, 13, 14, 15, 16,\n",
       "       17, 18, 19, 20, 21, 22, 23, 24])"
      ]
     },
     "execution_count": 30,
     "metadata": {},
     "output_type": "execute_result"
    }
   ],
   "source": [
    "var1"
   ]
  },
  {
   "cell_type": "code",
   "execution_count": 31,
   "metadata": {
    "colab": {
     "base_uri": "https://localhost:8080/"
    },
    "id": "PF1J6bAGlZx4",
    "outputId": "06870d62-86b5-4784-ef46-d188b938eece"
   },
   "outputs": [
    {
     "data": {
      "text/plain": [
       "(25,)"
      ]
     },
     "execution_count": 31,
     "metadata": {},
     "output_type": "execute_result"
    }
   ],
   "source": [
    "# Vector: one dimentional\n",
    "# no paranthesis for attributes\n",
    "\n",
    "var1.shape"
   ]
  },
  {
   "cell_type": "code",
   "execution_count": 32,
   "metadata": {
    "colab": {
     "base_uri": "https://localhost:8080/"
    },
    "id": "2izE14jQlscJ",
    "outputId": "56aafb8d-95cb-465d-e960-8c3c033eb9cb"
   },
   "outputs": [
    {
     "data": {
      "text/plain": [
       "array([[ 0,  1,  2,  3,  4,  5,  6,  7,  8,  9, 10, 11, 12, 13, 14, 15,\n",
       "        16, 17, 18, 19, 20, 21, 22, 23, 24]])"
      ]
     },
     "execution_count": 32,
     "metadata": {},
     "output_type": "execute_result"
    }
   ],
   "source": [
    "# Notice the two sets of brackets\n",
    "# two dimentional\n",
    "\n",
    "var1.reshape(1,25)"
   ]
  },
  {
   "cell_type": "code",
   "execution_count": 33,
   "metadata": {
    "colab": {
     "base_uri": "https://localhost:8080/"
    },
    "id": "T5L7P69lmAlR",
    "outputId": "ec5399a5-eb98-479c-892e-e9fad1f5db33"
   },
   "outputs": [
    {
     "data": {
      "text/plain": [
       "(1, 25)"
      ]
     },
     "execution_count": 33,
     "metadata": {},
     "output_type": "execute_result"
    }
   ],
   "source": [
    "# 1 row 25 column\n",
    "# think of this as some features of one single person\n",
    "var1.reshape(1,25).shape"
   ]
  },
  {
   "cell_type": "code",
   "execution_count": 34,
   "metadata": {
    "colab": {
     "base_uri": "https://localhost:8080/"
    },
    "id": "buzBPmemmLWu",
    "outputId": "7520b929-bde7-4fab-d803-63c00bfc985a"
   },
   "outputs": [
    {
     "data": {
      "text/plain": [
       "array([[ 0],\n",
       "       [ 1],\n",
       "       [ 2],\n",
       "       [ 3],\n",
       "       [ 4],\n",
       "       [ 5],\n",
       "       [ 6],\n",
       "       [ 7],\n",
       "       [ 8],\n",
       "       [ 9],\n",
       "       [10],\n",
       "       [11],\n",
       "       [12],\n",
       "       [13],\n",
       "       [14],\n",
       "       [15],\n",
       "       [16],\n",
       "       [17],\n",
       "       [18],\n",
       "       [19],\n",
       "       [20],\n",
       "       [21],\n",
       "       [22],\n",
       "       [23],\n",
       "       [24]])"
      ]
     },
     "execution_count": 34,
     "metadata": {},
     "output_type": "execute_result"
    }
   ],
   "source": [
    "# now it is different.\n",
    "# 25 row and 1 column\n",
    "# 25 people and one variable.\n",
    "var1.reshape(25,1)"
   ]
  },
  {
   "cell_type": "code",
   "execution_count": 35,
   "metadata": {
    "colab": {
     "base_uri": "https://localhost:8080/"
    },
    "id": "BWGPIQVbmPv3",
    "outputId": "013b5fd9-9179-4c16-a2ed-1aa0f6d2953b"
   },
   "outputs": [
    {
     "name": "stdout",
     "output_type": "stream",
     "text": [
      "(2, 2, 2)\n"
     ]
    }
   ],
   "source": [
    "# Create a 3D array\n",
    "# notice [[[  ]]]\n",
    "arr_3d = np.array([[[1, 2], [3, 4]], [[5, 6], [7, 8]]])\n",
    "shape_3d = np.shape(arr_3d)\n",
    "print(shape_3d)"
   ]
  },
  {
   "cell_type": "code",
   "execution_count": 36,
   "metadata": {
    "colab": {
     "base_uri": "https://localhost:8080/"
    },
    "id": "KfMTZVnmoFGf",
    "outputId": "3f791fd4-2109-4319-84a8-e897731ae2fe"
   },
   "outputs": [
    {
     "data": {
      "text/plain": [
       "dtype('int64')"
      ]
     },
     "execution_count": 36,
     "metadata": {},
     "output_type": "execute_result"
    }
   ],
   "source": [
    "# dtype\n",
    "# You can also grab the data type of the object in the array:\n",
    "# it refers to a 64-bit signed integer that can hold large whole numbers.\n",
    "#It means that each element in the array is a whole number (integer)\n",
    "\n",
    "var1.dtype"
   ]
  },
  {
   "cell_type": "markdown",
   "metadata": {
    "id": "_zke_1D1qlYd"
   },
   "source": [
    "## NumPy Indexing and Selection\n",
    "\n",
    "How to select elements or groups of elements from an array.\n",
    "\n",
    "The simplest way to pick one or some elements of an array looks very similar to python lists"
   ]
  },
  {
   "cell_type": "code",
   "execution_count": 37,
   "metadata": {
    "colab": {
     "base_uri": "https://localhost:8080/"
    },
    "id": "drBmgiuTqoki",
    "outputId": "25d98e2d-3f21-4876-81a5-cbae562a4340"
   },
   "outputs": [
    {
     "data": {
      "text/plain": [
       "array([ 0,  1,  2,  3,  4,  5,  6,  7,  8,  9, 10])"
      ]
     },
     "execution_count": 37,
     "metadata": {},
     "output_type": "execute_result"
    }
   ],
   "source": [
    "#Creating sample array\n",
    "var3 = np.arange(0,11)\n",
    "\n",
    "var3"
   ]
  },
  {
   "cell_type": "code",
   "execution_count": 38,
   "metadata": {
    "colab": {
     "base_uri": "https://localhost:8080/"
    },
    "id": "oiWdZaJ_qipZ",
    "outputId": "1923ce1f-e2ae-4f02-fdbf-1e42552735c7"
   },
   "outputs": [
    {
     "data": {
      "text/plain": [
       "8"
      ]
     },
     "execution_count": 38,
     "metadata": {},
     "output_type": "execute_result"
    }
   ],
   "source": [
    "#Get a value at an index\n",
    "var3[8]"
   ]
  },
  {
   "cell_type": "code",
   "execution_count": 39,
   "metadata": {
    "colab": {
     "base_uri": "https://localhost:8080/"
    },
    "id": "UOXdWsZarA7i",
    "outputId": "51470606-b1ec-464a-9beb-49dd18fedcde"
   },
   "outputs": [
    {
     "data": {
      "text/plain": [
       "array([1, 2, 3, 4])"
      ]
     },
     "execution_count": 39,
     "metadata": {},
     "output_type": "execute_result"
    }
   ],
   "source": [
    "#Get values in a range\n",
    "# exclusive\n",
    "\n",
    "var3[1:5]"
   ]
  },
  {
   "cell_type": "code",
   "execution_count": 40,
   "metadata": {
    "colab": {
     "base_uri": "https://localhost:8080/"
    },
    "id": "ZVY1OjMRrVl0",
    "outputId": "c9dac7b2-4b71-47b9-9f25-739c41e4678d"
   },
   "outputs": [
    {
     "data": {
      "text/plain": [
       "array([100, 100, 100, 100, 100,   5,   6,   7,   8,   9,  10])"
      ]
     },
     "execution_count": 40,
     "metadata": {},
     "output_type": "execute_result"
    }
   ],
   "source": [
    "#Setting a value with index range (Broadcasting)\n",
    "var3[0:5]=100\n",
    "\n",
    "var3"
   ]
  },
  {
   "cell_type": "markdown",
   "metadata": {
    "id": "v9H-ph7Art5E"
   },
   "source": [
    "## Indexing a 2D array (matrices)\n",
    "\n",
    "The general format is `var4[row][col]` or `var4[row,col]`.\n",
    "\n",
    "I usually the comma notation."
   ]
  },
  {
   "cell_type": "code",
   "execution_count": 41,
   "metadata": {
    "colab": {
     "base_uri": "https://localhost:8080/"
    },
    "id": "pGKiMF23sGyV",
    "outputId": "4b86c0ec-095e-4fa3-8876-ade4953eba7e"
   },
   "outputs": [
    {
     "data": {
      "text/plain": [
       "array([[ 5, 10, 15],\n",
       "       [20, 25, 30],\n",
       "       [35, 40, 45]])"
      ]
     },
     "execution_count": 41,
     "metadata": {},
     "output_type": "execute_result"
    }
   ],
   "source": [
    "var4 = np.array(([5,10,15],[20,25,30],[35,40,45]))\n",
    "\n",
    "var4"
   ]
  },
  {
   "cell_type": "code",
   "execution_count": 42,
   "metadata": {
    "colab": {
     "base_uri": "https://localhost:8080/"
    },
    "id": "r2TVxxOssM8D",
    "outputId": "dceeb88b-6582-4b93-aea0-bb40a99acd7f"
   },
   "outputs": [
    {
     "data": {
      "text/plain": [
       "array([20, 25, 30])"
      ]
     },
     "execution_count": 42,
     "metadata": {},
     "output_type": "execute_result"
    }
   ],
   "source": [
    "#Indexing row\n",
    "var4[1]"
   ]
  },
  {
   "cell_type": "code",
   "execution_count": 43,
   "metadata": {
    "colab": {
     "base_uri": "https://localhost:8080/"
    },
    "id": "2UPz9oiOsV0P",
    "outputId": "540b8259-cfe2-4e8f-ebee-9947395eb54c"
   },
   "outputs": [
    {
     "data": {
      "text/plain": [
       "20"
      ]
     },
     "execution_count": 43,
     "metadata": {},
     "output_type": "execute_result"
    }
   ],
   "source": [
    "# Format is var4[row][col]\n",
    "\n",
    "var4[1][0]"
   ]
  },
  {
   "cell_type": "code",
   "execution_count": 44,
   "metadata": {
    "colab": {
     "base_uri": "https://localhost:8080/"
    },
    "id": "WeuioV_YsruH",
    "outputId": "943ee769-1224-4328-f4e4-2e25ce8f9931"
   },
   "outputs": [
    {
     "data": {
      "text/plain": [
       "20"
      ]
     },
     "execution_count": 44,
     "metadata": {},
     "output_type": "execute_result"
    }
   ],
   "source": [
    "\n",
    "#var4[row,col]\n",
    "\n",
    "var4[1,0]"
   ]
  },
  {
   "cell_type": "code",
   "execution_count": 45,
   "metadata": {
    "colab": {
     "base_uri": "https://localhost:8080/"
    },
    "id": "yGatl01dtJ3g",
    "outputId": "c57ae7e1-1e0f-4f2f-c4d0-5c43db3a3dc1"
   },
   "outputs": [
    {
     "data": {
      "text/plain": [
       "array([[ 5, 10, 15],\n",
       "       [20, 25, 30],\n",
       "       [35, 40, 45]])"
      ]
     },
     "execution_count": 45,
     "metadata": {},
     "output_type": "execute_result"
    }
   ],
   "source": [
    "var4"
   ]
  },
  {
   "cell_type": "code",
   "execution_count": 46,
   "metadata": {
    "colab": {
     "base_uri": "https://localhost:8080/"
    },
    "id": "iOf0wmEds668",
    "outputId": "12c1393f-7616-4673-c78a-fb2aee69faab"
   },
   "outputs": [
    {
     "data": {
      "text/plain": [
       "array([[10, 15],\n",
       "       [25, 30]])"
      ]
     },
     "execution_count": 46,
     "metadata": {},
     "output_type": "execute_result"
    }
   ],
   "source": [
    "# 2D array slicing\n",
    "\n",
    "#Shape (2,2) from top right corner\n",
    "#var4[rowslice, columnlice]\n",
    "\n",
    "var4[:2,1:]"
   ]
  },
  {
   "cell_type": "code",
   "execution_count": 47,
   "metadata": {
    "colab": {
     "base_uri": "https://localhost:8080/"
    },
    "id": "I06cJuk2tXy8",
    "outputId": "40600485-3c26-4bef-ec36-21719ee43a07"
   },
   "outputs": [
    {
     "data": {
      "text/plain": [
       "array([35, 40, 45])"
      ]
     },
     "execution_count": 47,
     "metadata": {},
     "output_type": "execute_result"
    }
   ],
   "source": [
    "#Shape bottom row\n",
    "var4[2]"
   ]
  },
  {
   "cell_type": "markdown",
   "metadata": {
    "id": "VXocaHmGtwP6"
   },
   "source": [
    "## More Indexing Help\n",
    "Indexing a 2d matrix can be a bit confusing at first, especially when you start to add in step size.\n",
    "\n",
    "Try google image searching NumPy indexing to fins useful images, like this one:\n",
    "\n",
    "<img src= 'https://scipy-lectures.org/_images/numpy_indexing.png' width=500/>"
   ]
  },
  {
   "cell_type": "markdown",
   "metadata": {
    "id": "PrIvSfkXuU14"
   },
   "source": [
    "## Selection from arrays\n",
    "\n",
    "more on these when we cover pandas\n",
    "\n"
   ]
  },
  {
   "cell_type": "code",
   "execution_count": 48,
   "metadata": {
    "colab": {
     "base_uri": "https://localhost:8080/"
    },
    "id": "FoO55VW1ue-s",
    "outputId": "2bd25dce-05e1-4e61-f572-d2299d376e1f"
   },
   "outputs": [
    {
     "data": {
      "text/plain": [
       "array([ 0,  1,  2,  3,  4,  5,  6,  7,  8,  9, 10, 11, 12, 13, 14, 15, 16,\n",
       "       17, 18, 19, 20, 21, 22, 23, 24])"
      ]
     },
     "execution_count": 48,
     "metadata": {},
     "output_type": "execute_result"
    }
   ],
   "source": [
    "var1"
   ]
  },
  {
   "cell_type": "code",
   "execution_count": 49,
   "metadata": {
    "colab": {
     "base_uri": "https://localhost:8080/"
    },
    "id": "OO1fK9zWu0Ro",
    "outputId": "2b2a2fd5-b61b-4289-962e-4ea7944a889d"
   },
   "outputs": [
    {
     "data": {
      "text/plain": [
       "array([False, False, False, False, False,  True,  True,  True,  True,\n",
       "        True,  True,  True,  True,  True,  True,  True,  True,  True,\n",
       "        True,  True,  True,  True,  True,  True,  True])"
      ]
     },
     "execution_count": 49,
     "metadata": {},
     "output_type": "execute_result"
    }
   ],
   "source": [
    "var1>4"
   ]
  },
  {
   "cell_type": "code",
   "execution_count": 50,
   "metadata": {
    "id": "NtmFfpnhuUc9"
   },
   "outputs": [],
   "source": [
    "condition=var1>4"
   ]
  },
  {
   "cell_type": "code",
   "execution_count": 51,
   "metadata": {
    "colab": {
     "base_uri": "https://localhost:8080/"
    },
    "id": "4FRGuroeusdW",
    "outputId": "21d397e4-d960-44d6-b64c-537ac5a1f4cd"
   },
   "outputs": [
    {
     "data": {
      "text/plain": [
       "array([ 5,  6,  7,  8,  9, 10, 11, 12, 13, 14, 15, 16, 17, 18, 19, 20, 21,\n",
       "       22, 23, 24])"
      ]
     },
     "execution_count": 51,
     "metadata": {},
     "output_type": "execute_result"
    }
   ],
   "source": [
    "var1[condition]"
   ]
  },
  {
   "cell_type": "code",
   "execution_count": 52,
   "metadata": {
    "colab": {
     "base_uri": "https://localhost:8080/"
    },
    "id": "3BvuDlNku9k0",
    "outputId": "5153551e-c360-48bd-a9de-1711e434b117"
   },
   "outputs": [
    {
     "data": {
      "text/plain": [
       "array([ 5,  6,  7,  8,  9, 10, 11, 12, 13, 14, 15, 16, 17, 18, 19, 20, 21,\n",
       "       22, 23, 24])"
      ]
     },
     "execution_count": 52,
     "metadata": {},
     "output_type": "execute_result"
    }
   ],
   "source": [
    "var1[var1>4]"
   ]
  },
  {
   "cell_type": "markdown",
   "metadata": {
    "id": "J9vkA26mvXRj"
   },
   "source": [
    "## NumPy Operations\n",
    "\n",
    "### Arithmetic\n",
    "\n",
    "You can easily perform array with array arithmetic, or scalar with array arithmetic. Let's see some examples:\n",
    "\n"
   ]
  },
  {
   "cell_type": "code",
   "execution_count": 53,
   "metadata": {
    "colab": {
     "base_uri": "https://localhost:8080/"
    },
    "id": "Bb2aBqyxvPH8",
    "outputId": "142209d2-20c5-41ee-a3f5-ada8a5ff11cf"
   },
   "outputs": [
    {
     "data": {
      "text/plain": [
       "array([0, 1, 2, 3, 4, 5, 6, 7, 8, 9])"
      ]
     },
     "execution_count": 53,
     "metadata": {},
     "output_type": "execute_result"
    }
   ],
   "source": [
    "arr = np.arange(0,10)\n",
    "\n",
    "arr"
   ]
  },
  {
   "cell_type": "code",
   "execution_count": 54,
   "metadata": {
    "colab": {
     "base_uri": "https://localhost:8080/"
    },
    "id": "MED5PBLWvgr0",
    "outputId": "f1a15c0f-dc3f-4e50-cef2-d39c739e4418"
   },
   "outputs": [
    {
     "data": {
      "text/plain": [
       "array([ 0,  2,  4,  6,  8, 10, 12, 14, 16, 18])"
      ]
     },
     "execution_count": 54,
     "metadata": {},
     "output_type": "execute_result"
    }
   ],
   "source": [
    "arr + arr"
   ]
  },
  {
   "cell_type": "code",
   "execution_count": 55,
   "metadata": {
    "colab": {
     "base_uri": "https://localhost:8080/"
    },
    "id": "uE35W-Vfvk23",
    "outputId": "a4f9b4c1-b873-4552-e9e4-6d5d812dc719"
   },
   "outputs": [
    {
     "data": {
      "text/plain": [
       "array([ 0,  1,  4,  9, 16, 25, 36, 49, 64, 81])"
      ]
     },
     "execution_count": 55,
     "metadata": {},
     "output_type": "execute_result"
    }
   ],
   "source": [
    "arr * arr"
   ]
  },
  {
   "cell_type": "code",
   "execution_count": 56,
   "metadata": {
    "colab": {
     "base_uri": "https://localhost:8080/"
    },
    "id": "M-Rss1Ixvnh2",
    "outputId": "c0cb0d9d-1478-4b4e-ab61-5a015f24d6e3"
   },
   "outputs": [
    {
     "data": {
      "text/plain": [
       "array([0, 0, 0, 0, 0, 0, 0, 0, 0, 0])"
      ]
     },
     "execution_count": 56,
     "metadata": {},
     "output_type": "execute_result"
    }
   ],
   "source": [
    "arr - arr"
   ]
  },
  {
   "cell_type": "code",
   "execution_count": 57,
   "metadata": {
    "colab": {
     "base_uri": "https://localhost:8080/"
    },
    "id": "GoBChDn0vq_1",
    "outputId": "75ef01c3-0d23-462f-9789-c375919242dc"
   },
   "outputs": [
    {
     "data": {
      "text/plain": [
       "array([  0,   1,   8,  27,  64, 125, 216, 343, 512, 729])"
      ]
     },
     "execution_count": 57,
     "metadata": {},
     "output_type": "execute_result"
    }
   ],
   "source": [
    "arr**3"
   ]
  },
  {
   "cell_type": "markdown",
   "metadata": {
    "id": "TfDxG2jQvvTl"
   },
   "source": [
    "## mathematical operations\n",
    "\n",
    "Numpy comes with many [universal array functions](http://docs.scipy.org/doc/numpy/reference/ufuncs.html)"
   ]
  },
  {
   "cell_type": "code",
   "execution_count": 58,
   "metadata": {
    "colab": {
     "base_uri": "https://localhost:8080/"
    },
    "id": "6X787ZGtvs1j",
    "outputId": "e2fa6ce9-9237-4774-d595-b35e4abdab96"
   },
   "outputs": [
    {
     "data": {
      "text/plain": [
       "array([0.        , 1.        , 1.41421356, 1.73205081, 2.        ,\n",
       "       2.23606798, 2.44948974, 2.64575131, 2.82842712, 3.        ])"
      ]
     },
     "execution_count": 58,
     "metadata": {},
     "output_type": "execute_result"
    }
   ],
   "source": [
    "#Taking Square Roots\n",
    "np.sqrt(arr)"
   ]
  },
  {
   "cell_type": "code",
   "execution_count": 59,
   "metadata": {
    "colab": {
     "base_uri": "https://localhost:8080/"
    },
    "id": "XXjsgwSXwL-L",
    "outputId": "03dce390-0a00-44e0-f024-92c30c7e1099"
   },
   "outputs": [
    {
     "data": {
      "text/plain": [
       "array([1.00000000e+00, 2.71828183e+00, 7.38905610e+00, 2.00855369e+01,\n",
       "       5.45981500e+01, 1.48413159e+02, 4.03428793e+02, 1.09663316e+03,\n",
       "       2.98095799e+03, 8.10308393e+03])"
      ]
     },
     "execution_count": 59,
     "metadata": {},
     "output_type": "execute_result"
    }
   ],
   "source": [
    "#Calcualting exponential (e^)\n",
    "np.exp(arr)"
   ]
  },
  {
   "cell_type": "code",
   "execution_count": 60,
   "metadata": {
    "colab": {
     "base_uri": "https://localhost:8080/"
    },
    "id": "8-F_KnKPwPkz",
    "outputId": "847b9ac7-7df2-4133-91ed-3609e01bcf2d"
   },
   "outputs": [
    {
     "data": {
      "text/plain": [
       "array([ 0.        ,  0.84147098,  0.90929743,  0.14112001, -0.7568025 ,\n",
       "       -0.95892427, -0.2794155 ,  0.6569866 ,  0.98935825,  0.41211849])"
      ]
     },
     "execution_count": 60,
     "metadata": {},
     "output_type": "execute_result"
    }
   ],
   "source": [
    "np.sin(arr)"
   ]
  },
  {
   "cell_type": "code",
   "execution_count": 61,
   "metadata": {
    "colab": {
     "base_uri": "https://localhost:8080/"
    },
    "id": "f-FIS6E1wStm",
    "outputId": "8abcee95-5798-4637-9bfe-70c64c3b02af"
   },
   "outputs": [
    {
     "name": "stderr",
     "output_type": "stream",
     "text": [
      "<ipython-input-61-a67b4ae04e95>:1: RuntimeWarning: divide by zero encountered in log\n",
      "  np.log(arr)\n"
     ]
    },
    {
     "data": {
      "text/plain": [
       "array([      -inf, 0.        , 0.69314718, 1.09861229, 1.38629436,\n",
       "       1.60943791, 1.79175947, 1.94591015, 2.07944154, 2.19722458])"
      ]
     },
     "execution_count": 61,
     "metadata": {},
     "output_type": "execute_result"
    }
   ],
   "source": [
    "np.log(arr)"
   ]
  },
  {
   "cell_type": "markdown",
   "metadata": {
    "id": "gpjlDnrE3FGB"
   },
   "source": [
    "# SciPy\n",
    "\n"
   ]
  },
  {
   "cell_type": "markdown",
   "metadata": {
    "id": "NnIwhmRp_YQO"
   },
   "source": [
    "Scientific computing library for Python\n",
    "\n",
    "It is built on top of NumPy\n",
    "Provides additional functionality for scientific and technical computing.\n",
    "\n",
    "Scipy is widely used in various scientific disciplines, including mathematics, physics, engineering, biology, and more.\n",
    "\n",
    "For more on [scipy](https://scipy.org/).\n"
   ]
  },
  {
   "cell_type": "markdown",
   "metadata": {
    "id": "CJDhY4C1A7xU"
   },
   "source": [
    "The `scipy.stats.norm` submodule provides various methods for working with the normal (Gaussian) distribution.\n",
    "\n",
    "I mostly use scipy for Probability Density Function (PDF) and Cumulative Distribution Function (CDF).\n",
    "\n",
    "\n",
    "<img src= 'https://www.researchgate.net/publication/8588176/figure/fig1/AS:281581576048646@1444145687424/The-probability-distribution-function-PDF-and-cumulative-distribution-function-CDF-of.png' width=500/>\n",
    "\n",
    "<img src= 'https://rovdownloads.com/blog/wp-content/uploads/2014/07/fig-3.png' width=500/>\n",
    "\n",
    "\n"
   ]
  },
  {
   "cell_type": "code",
   "execution_count": 62,
   "metadata": {
    "colab": {
     "base_uri": "https://localhost:8080/"
    },
    "id": "FvsgL7teAl-x",
    "outputId": "a07535e1-96bf-455d-a73b-c6a5445d29e3"
   },
   "outputs": [
    {
     "name": "stdout",
     "output_type": "stream",
     "text": [
      "PDF at x = 1.5 : 0.12951759566589174\n"
     ]
    }
   ],
   "source": [
    "\n",
    "import scipy.stats as sps\n",
    "\n",
    "x = 1.5 #standard normal distribution\n",
    "\n",
    "pdf_value = sps.norm.pdf(x)\n",
    "print(\"PDF at x =\", x, \":\", pdf_value)\n",
    "\n"
   ]
  },
  {
   "cell_type": "code",
   "execution_count": 63,
   "metadata": {
    "colab": {
     "base_uri": "https://localhost:8080/"
    },
    "id": "lXjpM3AzBMjv",
    "outputId": "882f2061-4c02-4cc0-b4c6-75c3dd19cebb"
   },
   "outputs": [
    {
     "name": "stdout",
     "output_type": "stream",
     "text": [
      "CDF at x = 1.5 : 0.9331927987311419\n"
     ]
    }
   ],
   "source": [
    "x = 1.5 #standard normal distribution\n",
    "\n",
    "cdf_value = sps.norm.cdf(x)\n",
    "\n",
    "print(\"CDF at x =\", x, \":\", cdf_value)"
   ]
  }
 ],
 "metadata": {
  "colab": {
   "provenance": []
  },
  "kernelspec": {
   "display_name": "Python 3 (ipykernel)",
   "language": "python",
   "name": "python3"
  },
  "language_info": {
   "codemirror_mode": {
    "name": "ipython",
    "version": 3
   },
   "file_extension": ".py",
   "mimetype": "text/x-python",
   "name": "python",
   "nbconvert_exporter": "python",
   "pygments_lexer": "ipython3",
   "version": "3.10.9"
  }
 },
 "nbformat": 4,
 "nbformat_minor": 4
}
